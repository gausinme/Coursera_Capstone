{
 "cells": [
  {
   "cell_type": "markdown",
   "metadata": {
    "collapsed": true
   },
   "source": [
    "# The Battle of neighborhoods(Capstone Project) - Part 1 by Gaurav Singh"
   ]
  },
  {
   "cell_type": "markdown",
   "metadata": {},
   "source": [
    "Introduction : Business Problem\n",
    "\n",
    "The aim of this project is to find a safe and secure location for opening of commercial establishments in Vancouver city, Canada. \n",
    "Specifically, this report will be targeted to stakeholders interested in opening any business places like restaurants(say authentic indian food), grocery store in Vancouver City, Canada.\n",
    "\n",
    "(1) The first task would be to choose the safest and secure borough by analysing crime data for opening a restaurants(say and or grocery store and the, short listing a neighbourhood where restaurants and or grocery stores are not amongst the most commom venues, and yet as close to the city as possible.\n",
    "\n",
    "(2) to finalize the best location/neighbourhood as per our needs, we will make use of our data science tools to analyse data and focus on the safest borough and explore its neighborhoods and the 10 most common venues in each neighborhood so that the best neighborhood where restuarants and or grocery stores are not amongst the most common venue, can be selected."
   ]
  },
  {
   "cell_type": "markdown",
   "metadata": {},
   "source": [
    "Data :\n",
    "    \n",
    "Based on definition of our problem, factors that will influence our decission are below:\n",
    "\n",
    "(1) finding the safest borough based on crime statistics\n",
    "(2) finding the most common venues having restaurants(having authenic indian food), grocery stores\n",
    "(2) choosing the right neighbourhood within the borough\n",
    "\n",
    "We will be using the geographical coordinates of Vancouver to plot neighbourhoods in a borough that is safe and in the city's vicinity, and finally cluster our neighborhoods and present our findings.\n",
    "\n",
    "Following data sources will be needed to extract/generate the required information:\n",
    "\n",
    "Part 1: Using a real world data set from Kaggle containing the Vancouver Crimes from 2003 to 2019: A dataset consisting of the crime statistics of each Neighbourhoof in Vancouver along with type of crime, recorded year, month and hour.\n",
    "\n",
    "Part 2: Gathering additional information of the list of officially categorized boroughs in Vancouver from Wikipedia.: Borough information will be used to map the existing data where each neighbourhood can be assigned with the right borough.\n",
    "\n",
    "Part 3: Creating a new consolidated dataset of the Neighborhoods, along with their boroughs, crime data and the respective Neighbourhood's co-ordinates.: This data will be fetched using OpenCage Geocoder to find the safest borough and explore the neighbourhood by plotting it on maps using Folium and perform exploratory data analysis.\n",
    "\n",
    "Part 4: Creating a new consolidated dataset of the Neighborhoods, boroughs, and the most common venues and the respective Neighbourhood along with co-ordinates.: This data will be fetched using Four Square API to explore the neighbourhood venues and to apply machine learning algorithm to cluster the neighbourhoods and present the findings by plotting it on maps using Folium."
   ]
  },
  {
   "cell_type": "code",
   "execution_count": null,
   "metadata": {},
   "outputs": [],
   "source": []
  }
 ],
 "metadata": {
  "kernelspec": {
   "display_name": "Python 3.7",
   "language": "python",
   "name": "python3"
  },
  "language_info": {
   "codemirror_mode": {
    "name": "ipython",
    "version": 3
   },
   "file_extension": ".py",
   "mimetype": "text/x-python",
   "name": "python",
   "nbconvert_exporter": "python",
   "pygments_lexer": "ipython3",
   "version": "3.7.9"
  }
 },
 "nbformat": 4,
 "nbformat_minor": 1
}
